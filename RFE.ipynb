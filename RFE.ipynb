{
 "cells": [
  {
   "cell_type": "code",
   "execution_count": 3,
   "metadata": {},
   "outputs": [
    {
     "name": "stdout",
     "output_type": "stream",
     "text": [
      "   GRE Score  TOEFL Score  University Rating  SOP  LOR   CGPA  Research  Chance of Admit \n",
      "0        337          118                  4  4.5   4.5  9.65         1              0.92\n",
      "1        324          107                  4  4.0   4.5  8.87         1              0.76\n",
      "2        316          104                  3  3.0   3.5  8.00         1              0.72\n",
      "3        322          110                  3  3.5   2.5  8.67         1              0.80\n",
      "4        314          103                  2  2.0   3.0  8.21         0              0.65\n"
     ]
    }
   ],
   "source": [
    "import pandas as pd\n",
    "from sklearn.feature_selection import RFE\n",
    "from sklearn.linear_model import Ridge\n",
    "pd.set_option('display.max_columns', 10)\n",
    "pd.set_option('display.width', 320)\n",
    "dados = pd.read_csv('C:\\Python\\Didatica Tech\\Datasets\\Admission_Predict.csv')\n",
    "dados.drop('Serial No.', axis = 1, inplace = True)\n",
    "print(dados.head())"
   ]
  },
  {
   "cell_type": "code",
   "execution_count": 11,
   "metadata": {},
   "outputs": [
    {
     "name": "stdout",
     "output_type": "stream",
     "text": [
      "Número de atributos:  3\n",
      "Atributos selecionados:  [False False False False  True  True  True]\n",
      "Ranking dos atributos: [5 3 2 4 1 1 1]\n"
     ]
    }
   ],
   "source": [
    "y = dados['Chance of Admit ']\n",
    "x = dados.drop('Chance of Admit ', axis = 1)\n",
    "\n",
    "#Definido o modelo de ML\n",
    "modelo = Ridge()\n",
    "\n",
    "rfe = RFE(estimator=modelo, n_features_to_select=3) # define o número de variáveis que se deseja selecionar\n",
    "fit = rfe.fit(x,y)\n",
    "print('Número de atributos: ', fit.n_features_)\n",
    "print('Atributos selecionados: ', fit.support_)\n",
    "print('Ranking dos atributos:', fit.ranking_)"
   ]
  },
  {
   "cell_type": "code",
   "execution_count": 12,
   "metadata": {},
   "outputs": [
    {
     "name": "stdout",
     "output_type": "stream",
     "text": [
      "Número de atributos:  3\n",
      "Atributos selecionados:  [ True False False False  True  True False]\n",
      "Ranking dos atributos: [1 3 5 2 1 1 4]\n"
     ]
    }
   ],
   "source": [
    "# aqui está sendo feito uma feature selection para um modelo de DecisionTreeRegressor\n",
    "# interessante que as variáveis selecionadas podem ser diferentes de um modelo para outro\n",
    "from sklearn.tree import DecisionTreeRegressor\n",
    "\n",
    "y = dados['Chance of Admit ']\n",
    "x = dados.drop('Chance of Admit ', axis = 1)\n",
    "\n",
    "#Definido o modelo de ML\n",
    "modelo = DecisionTreeRegressor()\n",
    "\n",
    "rfe = RFE(estimator=modelo, n_features_to_select=3) # define o número de variáveis que se deseja selecionar\n",
    "fit = rfe.fit(x,y)\n",
    "print('Número de atributos: ', fit.n_features_)\n",
    "print('Atributos selecionados: ', fit.support_)\n",
    "print('Ranking dos atributos:', fit.ranking_)"
   ]
  },
  {
   "cell_type": "code",
   "execution_count": null,
   "metadata": {},
   "outputs": [],
   "source": []
  }
 ],
 "metadata": {
  "kernelspec": {
   "display_name": "Python 3",
   "language": "python",
   "name": "python3"
  },
  "language_info": {
   "codemirror_mode": {
    "name": "ipython",
    "version": 3
   },
   "file_extension": ".py",
   "mimetype": "text/x-python",
   "name": "python",
   "nbconvert_exporter": "python",
   "pygments_lexer": "ipython3",
   "version": "3.7.4"
  }
 },
 "nbformat": 4,
 "nbformat_minor": 4
}
