{
 "cells": [
  {
   "cell_type": "code",
   "execution_count": 1,
   "metadata": {},
   "outputs": [],
   "source": [
    "import pandas as pd\n",
    "pd.set_option('display.max_columns', 9)\n",
    "dados = pd.read_excel('D:\\\\ML\\\\Didatica Tech\\\\Datasets\\\\Concrete_Data.xls', encoding='latin-1') "
   ]
  },
  {
   "cell_type": "code",
   "execution_count": 4,
   "metadata": {},
   "outputs": [
    {
     "data": {
      "text/html": [
       "<div>\n",
       "<style scoped>\n",
       "    .dataframe tbody tr th:only-of-type {\n",
       "        vertical-align: middle;\n",
       "    }\n",
       "\n",
       "    .dataframe tbody tr th {\n",
       "        vertical-align: top;\n",
       "    }\n",
       "\n",
       "    .dataframe thead th {\n",
       "        text-align: right;\n",
       "    }\n",
       "</style>\n",
       "<table border=\"1\" class=\"dataframe\">\n",
       "  <thead>\n",
       "    <tr style=\"text-align: right;\">\n",
       "      <th></th>\n",
       "      <th>Cement (component 1)(kg in a m^3 mixture)</th>\n",
       "      <th>Blast Furnace Slag (component 2)(kg in a m^3 mixture)</th>\n",
       "      <th>Fly Ash (component 3)(kg in a m^3 mixture)</th>\n",
       "      <th>Water  (component 4)(kg in a m^3 mixture)</th>\n",
       "      <th>Superplasticizer (component 5)(kg in a m^3 mixture)</th>\n",
       "      <th>Coarse Aggregate  (component 6)(kg in a m^3 mixture)</th>\n",
       "      <th>Fine Aggregate (component 7)(kg in a m^3 mixture)</th>\n",
       "      <th>Age (day)</th>\n",
       "      <th>Concrete compressive strength(MPa, megapascals)</th>\n",
       "    </tr>\n",
       "  </thead>\n",
       "  <tbody>\n",
       "    <tr>\n",
       "      <th>0</th>\n",
       "      <td>540.0</td>\n",
       "      <td>0.0</td>\n",
       "      <td>0.0</td>\n",
       "      <td>162.0</td>\n",
       "      <td>2.5</td>\n",
       "      <td>1040.0</td>\n",
       "      <td>676.0</td>\n",
       "      <td>28</td>\n",
       "      <td>79.986111</td>\n",
       "    </tr>\n",
       "    <tr>\n",
       "      <th>1</th>\n",
       "      <td>540.0</td>\n",
       "      <td>0.0</td>\n",
       "      <td>0.0</td>\n",
       "      <td>162.0</td>\n",
       "      <td>2.5</td>\n",
       "      <td>1055.0</td>\n",
       "      <td>676.0</td>\n",
       "      <td>28</td>\n",
       "      <td>61.887366</td>\n",
       "    </tr>\n",
       "    <tr>\n",
       "      <th>2</th>\n",
       "      <td>332.5</td>\n",
       "      <td>142.5</td>\n",
       "      <td>0.0</td>\n",
       "      <td>228.0</td>\n",
       "      <td>0.0</td>\n",
       "      <td>932.0</td>\n",
       "      <td>594.0</td>\n",
       "      <td>270</td>\n",
       "      <td>40.269535</td>\n",
       "    </tr>\n",
       "    <tr>\n",
       "      <th>3</th>\n",
       "      <td>332.5</td>\n",
       "      <td>142.5</td>\n",
       "      <td>0.0</td>\n",
       "      <td>228.0</td>\n",
       "      <td>0.0</td>\n",
       "      <td>932.0</td>\n",
       "      <td>594.0</td>\n",
       "      <td>365</td>\n",
       "      <td>41.052780</td>\n",
       "    </tr>\n",
       "    <tr>\n",
       "      <th>4</th>\n",
       "      <td>198.6</td>\n",
       "      <td>132.4</td>\n",
       "      <td>0.0</td>\n",
       "      <td>192.0</td>\n",
       "      <td>0.0</td>\n",
       "      <td>978.4</td>\n",
       "      <td>825.5</td>\n",
       "      <td>360</td>\n",
       "      <td>44.296075</td>\n",
       "    </tr>\n",
       "  </tbody>\n",
       "</table>\n",
       "</div>"
      ],
      "text/plain": [
       "   Cement (component 1)(kg in a m^3 mixture)  \\\n",
       "0                                      540.0   \n",
       "1                                      540.0   \n",
       "2                                      332.5   \n",
       "3                                      332.5   \n",
       "4                                      198.6   \n",
       "\n",
       "   Blast Furnace Slag (component 2)(kg in a m^3 mixture)  \\\n",
       "0                                                0.0       \n",
       "1                                                0.0       \n",
       "2                                              142.5       \n",
       "3                                              142.5       \n",
       "4                                              132.4       \n",
       "\n",
       "   Fly Ash (component 3)(kg in a m^3 mixture)  \\\n",
       "0                                         0.0   \n",
       "1                                         0.0   \n",
       "2                                         0.0   \n",
       "3                                         0.0   \n",
       "4                                         0.0   \n",
       "\n",
       "   Water  (component 4)(kg in a m^3 mixture)  \\\n",
       "0                                      162.0   \n",
       "1                                      162.0   \n",
       "2                                      228.0   \n",
       "3                                      228.0   \n",
       "4                                      192.0   \n",
       "\n",
       "   Superplasticizer (component 5)(kg in a m^3 mixture)  \\\n",
       "0                                                2.5     \n",
       "1                                                2.5     \n",
       "2                                                0.0     \n",
       "3                                                0.0     \n",
       "4                                                0.0     \n",
       "\n",
       "   Coarse Aggregate  (component 6)(kg in a m^3 mixture)  \\\n",
       "0                                             1040.0      \n",
       "1                                             1055.0      \n",
       "2                                              932.0      \n",
       "3                                              932.0      \n",
       "4                                              978.4      \n",
       "\n",
       "   Fine Aggregate (component 7)(kg in a m^3 mixture)  Age (day)  \\\n",
       "0                                              676.0         28   \n",
       "1                                              676.0         28   \n",
       "2                                              594.0        270   \n",
       "3                                              594.0        365   \n",
       "4                                              825.5        360   \n",
       "\n",
       "   Concrete compressive strength(MPa, megapascals)   \n",
       "0                                         79.986111  \n",
       "1                                         61.887366  \n",
       "2                                         40.269535  \n",
       "3                                         41.052780  \n",
       "4                                         44.296075  "
      ]
     },
     "execution_count": 4,
     "metadata": {},
     "output_type": "execute_result"
    }
   ],
   "source": [
    "dados.head()"
   ]
  },
  {
   "cell_type": "code",
   "execution_count": 5,
   "metadata": {},
   "outputs": [],
   "source": [
    "y = dados['Concrete compressive strength(MPa, megapascals) ']\n",
    "x = dados.drop('Concrete compressive strength(MPa, megapascals) ', axis = 1) "
   ]
  },
  {
   "cell_type": "code",
   "execution_count": 10,
   "metadata": {},
   "outputs": [
    {
     "name": "stdout",
     "output_type": "stream",
     "text": [
      "0.5753731429817978\n"
     ]
    }
   ],
   "source": [
    "from sklearn.svm import SVR\n",
    "from sklearn.model_selection import KFold\n",
    "from sklearn.model_selection import cross_val_score\n",
    "from sklearn.preprocessing import MinMaxScaler\n",
    "\n",
    "normalizador = MinMaxScaler(feature_range = (0, 1))\n",
    "x_norm = normalizador.fit_transform(x)\n",
    "modelo = SVR()\n",
    "skfold = KFold(n_splits=3, shuffle=True)\n",
    "resultado = cross_val_score(modelo,x_norm,y, cv = skfold, n_jobs=-1)\n",
    "print(resultado.mean())"
   ]
  },
  {
   "cell_type": "code",
   "execution_count": 13,
   "metadata": {},
   "outputs": [
    {
     "name": "stdout",
     "output_type": "stream",
     "text": [
      "Melhor valor constante:  2.0\n",
      "Melhor kernel:  poly\n",
      "Melhor grau polinômio:  4\n",
      "Melhor epsilon:  0.1\n",
      "R2:  0.8197633714233694\n"
     ]
    }
   ],
   "source": [
    "# testando os parâmetros para ajustar o modelo\n",
    "from sklearn.model_selection import GridSearchCV\n",
    "import numpy as np\n",
    "c = np.array([1.0, 0.95, 1.05, 1.1, 1.2, 2, 0.9, 0.8])\n",
    "kernel = ['linear', 'poly','rbf', 'sigmoid']\n",
    "polinomio = np.array([2, 3, 4])\n",
    "epsilon = np.array([0.1, 0.2, 0.05])\n",
    "valores_grid = {'C': c, 'kernel': kernel, 'degree': polinomio, 'epsilon':epsilon}\n",
    "modelo = SVR()\n",
    "kfold = KFold(n_splits=3, shuffle=True)\n",
    "gridSVM = GridSearchCV(estimator = modelo, param_grid = valores_grid, cv=kfold, n_jobs=-1)\n",
    "gridSVM.fit(x_norm,y)\n",
    "print(\"Melhor valor constante: \", gridSVM.best_estimator_.C)\n",
    "print(\"Melhor kernel: \", gridSVM.best_estimator_.kernel)\n",
    "print(\"Melhor grau polinômio: \", gridSVM.best_estimator_.degree)\n",
    "print(\"Melhor epsilon: \", gridSVM.best_estimator_.epsilon)\n",
    "print(\"R2: \", gridSVM.best_score_)"
   ]
  },
  {
   "cell_type": "code",
   "execution_count": 15,
   "metadata": {},
   "outputs": [
    {
     "name": "stdout",
     "output_type": "stream",
     "text": [
      "Melhor valor constante:  16\n",
      "Melhor kernel:  poly\n",
      "Melhor grau polinômio:  4\n",
      "Melhor epsilon:  0.2\n",
      "R2:  0.846656441370044\n"
     ]
    }
   ],
   "source": [
    "# testando os parâmetros para ajustar o modelo\n",
    "from sklearn.model_selection import GridSearchCV\n",
    "import numpy as np\n",
    "c = np.array([2, 4, 6, 8, 16, 32])\n",
    "kernel = ['linear', 'poly','rbf', 'sigmoid']\n",
    "polinomio = np.array([4, 5, 6])\n",
    "epsilon = np.array([0.2, 0.15, 0.1])\n",
    "valores_grid = {'C': c, 'kernel': kernel, 'degree': polinomio, 'epsilon':epsilon}\n",
    "modelo = SVR()\n",
    "kfold = KFold(n_splits=3, shuffle=True)\n",
    "gridSVM = GridSearchCV(estimator = modelo, param_grid = valores_grid, cv=kfold, n_jobs=-1)\n",
    "gridSVM.fit(x_norm,y)\n",
    "print(\"Melhor valor constante: \", gridSVM.best_estimator_.C)\n",
    "print(\"Melhor kernel: \", gridSVM.best_estimator_.kernel)\n",
    "print(\"Melhor grau polinômio: \", gridSVM.best_estimator_.degree)\n",
    "print(\"Melhor epsilon: \", gridSVM.best_estimator_.epsilon)\n",
    "print(\"R2: \", gridSVM.best_score_)"
   ]
  },
  {
   "cell_type": "code",
   "execution_count": 28,
   "metadata": {},
   "outputs": [],
   "source": [
    "# Exercício\n",
    "exercicio = pd.read_csv('http://archive.ics.uci.edu/ml/machine-learning-databases/balance-scale/balance-scale.data')"
   ]
  },
  {
   "cell_type": "code",
   "execution_count": 29,
   "metadata": {},
   "outputs": [],
   "source": [
    "exercicio.columns = ['Class Name', 'Left Weight', 'Left Distance', 'Right Weight', 'Right Distance']"
   ]
  },
  {
   "cell_type": "code",
   "execution_count": 30,
   "metadata": {},
   "outputs": [
    {
     "data": {
      "text/html": [
       "<div>\n",
       "<style scoped>\n",
       "    .dataframe tbody tr th:only-of-type {\n",
       "        vertical-align: middle;\n",
       "    }\n",
       "\n",
       "    .dataframe tbody tr th {\n",
       "        vertical-align: top;\n",
       "    }\n",
       "\n",
       "    .dataframe thead th {\n",
       "        text-align: right;\n",
       "    }\n",
       "</style>\n",
       "<table border=\"1\" class=\"dataframe\">\n",
       "  <thead>\n",
       "    <tr style=\"text-align: right;\">\n",
       "      <th></th>\n",
       "      <th>Class Name</th>\n",
       "      <th>Left Weight</th>\n",
       "      <th>Left Distance</th>\n",
       "      <th>Right Weight</th>\n",
       "      <th>Right Distance</th>\n",
       "    </tr>\n",
       "  </thead>\n",
       "  <tbody>\n",
       "    <tr>\n",
       "      <th>0</th>\n",
       "      <td>R</td>\n",
       "      <td>1</td>\n",
       "      <td>1</td>\n",
       "      <td>1</td>\n",
       "      <td>2</td>\n",
       "    </tr>\n",
       "    <tr>\n",
       "      <th>1</th>\n",
       "      <td>R</td>\n",
       "      <td>1</td>\n",
       "      <td>1</td>\n",
       "      <td>1</td>\n",
       "      <td>3</td>\n",
       "    </tr>\n",
       "    <tr>\n",
       "      <th>2</th>\n",
       "      <td>R</td>\n",
       "      <td>1</td>\n",
       "      <td>1</td>\n",
       "      <td>1</td>\n",
       "      <td>4</td>\n",
       "    </tr>\n",
       "    <tr>\n",
       "      <th>3</th>\n",
       "      <td>R</td>\n",
       "      <td>1</td>\n",
       "      <td>1</td>\n",
       "      <td>1</td>\n",
       "      <td>5</td>\n",
       "    </tr>\n",
       "    <tr>\n",
       "      <th>4</th>\n",
       "      <td>R</td>\n",
       "      <td>1</td>\n",
       "      <td>1</td>\n",
       "      <td>2</td>\n",
       "      <td>1</td>\n",
       "    </tr>\n",
       "  </tbody>\n",
       "</table>\n",
       "</div>"
      ],
      "text/plain": [
       "  Class Name  Left Weight  Left Distance  Right Weight  Right Distance\n",
       "0          R            1              1             1               2\n",
       "1          R            1              1             1               3\n",
       "2          R            1              1             1               4\n",
       "3          R            1              1             1               5\n",
       "4          R            1              1             2               1"
      ]
     },
     "execution_count": 30,
     "metadata": {},
     "output_type": "execute_result"
    }
   ],
   "source": [
    "exercicio.head()"
   ]
  },
  {
   "cell_type": "code",
   "execution_count": 31,
   "metadata": {},
   "outputs": [
    {
     "data": {
      "text/plain": [
       "(624, 5)"
      ]
     },
     "execution_count": 31,
     "metadata": {},
     "output_type": "execute_result"
    }
   ],
   "source": [
    "exercicio.shape"
   ]
  },
  {
   "cell_type": "code",
   "execution_count": 32,
   "metadata": {},
   "outputs": [
    {
     "name": "stdout",
     "output_type": "stream",
     "text": [
      "Class Name        0\n",
      "Left Weight       0\n",
      "Left Distance     0\n",
      "Right Weight      0\n",
      "Right Distance    0\n",
      "dtype: int64\n"
     ]
    }
   ],
   "source": [
    "faltantes = exercicio.isnull().sum()\n",
    "#faltantes_percentual = (dados.isnull().sum() / len(dados['StyleID'])) * 100\n",
    "print(faltantes)"
   ]
  },
  {
   "cell_type": "code",
   "execution_count": 33,
   "metadata": {},
   "outputs": [
    {
     "data": {
      "text/plain": [
       "Class Name        object\n",
       "Left Weight        int64\n",
       "Left Distance      int64\n",
       "Right Weight       int64\n",
       "Right Distance     int64\n",
       "dtype: object"
      ]
     },
     "execution_count": 33,
     "metadata": {},
     "output_type": "execute_result"
    }
   ],
   "source": [
    "exercicio.dtypes"
   ]
  },
  {
   "cell_type": "code",
   "execution_count": 34,
   "metadata": {},
   "outputs": [
    {
     "data": {
      "text/plain": [
       "R    288\n",
       "L    288\n",
       "B     48\n",
       "Name: Class Name, dtype: int64"
      ]
     },
     "execution_count": 34,
     "metadata": {},
     "output_type": "execute_result"
    }
   ],
   "source": [
    "exercicio['Class Name'].value_counts()"
   ]
  },
  {
   "cell_type": "code",
   "execution_count": 35,
   "metadata": {},
   "outputs": [],
   "source": [
    "y = exercicio['Class Name']\n",
    "x = exercicio.drop('Class Name', axis=1)"
   ]
  },
  {
   "cell_type": "code",
   "execution_count": 36,
   "metadata": {},
   "outputs": [
    {
     "name": "stdout",
     "output_type": "stream",
     "text": [
      "0.782051282051282\n"
     ]
    }
   ],
   "source": [
    "from sklearn.svm import SVC  # SVC para Classificação | SVR para regressão\n",
    "from sklearn.model_selection import StratifiedKFold\n",
    "from sklearn.model_selection import cross_val_score\n",
    "from sklearn.preprocessing import MinMaxScaler\n",
    "\n",
    "normalizador = MinMaxScaler(feature_range = (0, 1))\n",
    "x_norm = normalizador.fit_transform(x)\n",
    "modelo = SVC()\n",
    "skfold = StratifiedKFold(n_splits=3)\n",
    "resultado = cross_val_score(modelo,x_norm,y, cv = skfold, n_jobs=-1)\n",
    "print(resultado.mean())"
   ]
  },
  {
   "cell_type": "code",
   "execution_count": 40,
   "metadata": {},
   "outputs": [
    {
     "name": "stdout",
     "output_type": "stream",
     "text": [
      "Melhor valor constante:  1000.0\n",
      "Melhor kernel:  rbf\n",
      "Melhor grau polinômio:  2\n",
      "Melhor gamma:  auto\n",
      "R2:  0.9984126984126984\n"
     ]
    }
   ],
   "source": [
    "from sklearn.model_selection import GridSearchCV\n",
    "import numpy as np\n",
    "c = np.array([1.0, 5, 10, 15, 20, 100, 500, 1000, 1500]) \n",
    "kernel = ['linear', 'poly', 'rbf', 'sigmoid']\n",
    "polinomio = np.array([2, 3, 4, 5])\n",
    "# epsilon = np.array([0.2, 0.15, 0.1])  # parametro usado apenas em problemas de regressão\n",
    "gamma = ['auto', 'scale']\n",
    "valores_grid = {'C': c, 'kernel': kernel, 'degree': polinomio, 'gamma':gamma}\n",
    "modelo = SVC()\n",
    "#kfold = KFold(n_splits=3, shuffle=True)\n",
    "gridSVM = GridSearchCV(estimator = modelo, param_grid = valores_grid, cv=7, n_jobs=-1)\n",
    "gridSVM.fit(x_norm,y)\n",
    "print(\"Melhor valor constante: \", gridSVM.best_estimator_.C)\n",
    "print(\"Melhor kernel: \", gridSVM.best_estimator_.kernel)\n",
    "print(\"Melhor grau polinômio: \", gridSVM.best_estimator_.degree)\n",
    "print(\"Melhor gamma: \", gridSVM.best_estimator_.gamma)\n",
    "print(\"R2: \", gridSVM.best_score_)"
   ]
  },
  {
   "cell_type": "code",
   "execution_count": null,
   "metadata": {},
   "outputs": [],
   "source": []
  }
 ],
 "metadata": {
  "kernelspec": {
   "display_name": "Python 3",
   "language": "python",
   "name": "python3"
  },
  "language_info": {
   "codemirror_mode": {
    "name": "ipython",
    "version": 3
   },
   "file_extension": ".py",
   "mimetype": "text/x-python",
   "name": "python",
   "nbconvert_exporter": "python",
   "pygments_lexer": "ipython3",
   "version": "3.6.5"
  }
 },
 "nbformat": 4,
 "nbformat_minor": 2
}
