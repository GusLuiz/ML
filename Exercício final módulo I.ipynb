{
 "cells": [
  {
   "cell_type": "code",
   "execution_count": 3,
   "metadata": {},
   "outputs": [],
   "source": [
    "import pandas as pd\n",
    "pd.set_option('display.max_columns', 23)\n",
    "dados = pd.read_csv('D:\\\\ML\\\\Didatica Tech\\\\Datasets\\\\recipeData.csv', encoding='latin-1') # \n",
    "dados.drop('URL', axis = 1, inplace = True)"
   ]
  },
  {
   "cell_type": "code",
   "execution_count": 96,
   "metadata": {},
   "outputs": [
    {
     "data": {
      "text/html": [
       "<div>\n",
       "<style scoped>\n",
       "    .dataframe tbody tr th:only-of-type {\n",
       "        vertical-align: middle;\n",
       "    }\n",
       "\n",
       "    .dataframe tbody tr th {\n",
       "        vertical-align: top;\n",
       "    }\n",
       "\n",
       "    .dataframe thead th {\n",
       "        text-align: right;\n",
       "    }\n",
       "</style>\n",
       "<table border=\"1\" class=\"dataframe\">\n",
       "  <thead>\n",
       "    <tr style=\"text-align: right;\">\n",
       "      <th></th>\n",
       "      <th>BeerID</th>\n",
       "      <th>Name</th>\n",
       "      <th>Style</th>\n",
       "      <th>StyleID</th>\n",
       "      <th>Size(L)</th>\n",
       "      <th>OG</th>\n",
       "      <th>FG</th>\n",
       "      <th>ABV</th>\n",
       "      <th>IBU</th>\n",
       "      <th>Color</th>\n",
       "      <th>BoilSize</th>\n",
       "      <th>BoilTime</th>\n",
       "      <th>BoilGravity</th>\n",
       "      <th>Efficiency</th>\n",
       "      <th>MashThickness</th>\n",
       "      <th>SugarScale</th>\n",
       "      <th>BrewMethod</th>\n",
       "      <th>PitchRate</th>\n",
       "      <th>PrimaryTemp</th>\n",
       "      <th>PrimingMethod</th>\n",
       "      <th>PrimingAmount</th>\n",
       "      <th>UserId</th>\n",
       "    </tr>\n",
       "  </thead>\n",
       "  <tbody>\n",
       "    <tr>\n",
       "      <td>0</td>\n",
       "      <td>1</td>\n",
       "      <td>Vanilla Cream Ale</td>\n",
       "      <td>Cream Ale</td>\n",
       "      <td>45</td>\n",
       "      <td>21.77</td>\n",
       "      <td>1.055</td>\n",
       "      <td>1.013</td>\n",
       "      <td>5.48</td>\n",
       "      <td>17.65</td>\n",
       "      <td>4.83</td>\n",
       "      <td>28.39</td>\n",
       "      <td>75</td>\n",
       "      <td>1.038</td>\n",
       "      <td>70.0</td>\n",
       "      <td>NaN</td>\n",
       "      <td>Specific Gravity</td>\n",
       "      <td>All Grain</td>\n",
       "      <td>NaN</td>\n",
       "      <td>17.78</td>\n",
       "      <td>corn sugar</td>\n",
       "      <td>4.5 oz</td>\n",
       "      <td>116.0</td>\n",
       "    </tr>\n",
       "    <tr>\n",
       "      <td>1</td>\n",
       "      <td>2</td>\n",
       "      <td>Southern Tier Pumking clone</td>\n",
       "      <td>Holiday/Winter Special Spiced Beer</td>\n",
       "      <td>85</td>\n",
       "      <td>20.82</td>\n",
       "      <td>1.083</td>\n",
       "      <td>1.021</td>\n",
       "      <td>8.16</td>\n",
       "      <td>60.65</td>\n",
       "      <td>15.64</td>\n",
       "      <td>24.61</td>\n",
       "      <td>60</td>\n",
       "      <td>1.070</td>\n",
       "      <td>70.0</td>\n",
       "      <td>NaN</td>\n",
       "      <td>Specific Gravity</td>\n",
       "      <td>All Grain</td>\n",
       "      <td>NaN</td>\n",
       "      <td>NaN</td>\n",
       "      <td>NaN</td>\n",
       "      <td>NaN</td>\n",
       "      <td>955.0</td>\n",
       "    </tr>\n",
       "    <tr>\n",
       "      <td>2</td>\n",
       "      <td>3</td>\n",
       "      <td>Zombie Dust Clone - EXTRACT</td>\n",
       "      <td>American IPA</td>\n",
       "      <td>7</td>\n",
       "      <td>18.93</td>\n",
       "      <td>1.063</td>\n",
       "      <td>1.018</td>\n",
       "      <td>5.91</td>\n",
       "      <td>59.25</td>\n",
       "      <td>8.98</td>\n",
       "      <td>22.71</td>\n",
       "      <td>60</td>\n",
       "      <td>NaN</td>\n",
       "      <td>70.0</td>\n",
       "      <td>NaN</td>\n",
       "      <td>Specific Gravity</td>\n",
       "      <td>extract</td>\n",
       "      <td>NaN</td>\n",
       "      <td>NaN</td>\n",
       "      <td>NaN</td>\n",
       "      <td>NaN</td>\n",
       "      <td>NaN</td>\n",
       "    </tr>\n",
       "    <tr>\n",
       "      <td>3</td>\n",
       "      <td>4</td>\n",
       "      <td>Zombie Dust Clone - ALL GRAIN</td>\n",
       "      <td>American IPA</td>\n",
       "      <td>7</td>\n",
       "      <td>22.71</td>\n",
       "      <td>1.061</td>\n",
       "      <td>1.017</td>\n",
       "      <td>5.80</td>\n",
       "      <td>54.48</td>\n",
       "      <td>8.50</td>\n",
       "      <td>26.50</td>\n",
       "      <td>60</td>\n",
       "      <td>NaN</td>\n",
       "      <td>70.0</td>\n",
       "      <td>NaN</td>\n",
       "      <td>Specific Gravity</td>\n",
       "      <td>All Grain</td>\n",
       "      <td>NaN</td>\n",
       "      <td>NaN</td>\n",
       "      <td>NaN</td>\n",
       "      <td>NaN</td>\n",
       "      <td>NaN</td>\n",
       "    </tr>\n",
       "    <tr>\n",
       "      <td>4</td>\n",
       "      <td>5</td>\n",
       "      <td>Bakke Brygg Belgisk Blonde 50 l</td>\n",
       "      <td>Belgian Blond Ale</td>\n",
       "      <td>20</td>\n",
       "      <td>50.00</td>\n",
       "      <td>1.060</td>\n",
       "      <td>1.010</td>\n",
       "      <td>6.48</td>\n",
       "      <td>17.84</td>\n",
       "      <td>4.57</td>\n",
       "      <td>60.00</td>\n",
       "      <td>90</td>\n",
       "      <td>1.050</td>\n",
       "      <td>72.0</td>\n",
       "      <td>NaN</td>\n",
       "      <td>Specific Gravity</td>\n",
       "      <td>All Grain</td>\n",
       "      <td>NaN</td>\n",
       "      <td>19.00</td>\n",
       "      <td>Sukkerlake</td>\n",
       "      <td>6-7 g sukker/l</td>\n",
       "      <td>18325.0</td>\n",
       "    </tr>\n",
       "  </tbody>\n",
       "</table>\n",
       "</div>"
      ],
      "text/plain": [
       "   BeerID                             Name  \\\n",
       "0       1                Vanilla Cream Ale   \n",
       "1       2      Southern Tier Pumking clone   \n",
       "2       3      Zombie Dust Clone - EXTRACT   \n",
       "3       4    Zombie Dust Clone - ALL GRAIN   \n",
       "4       5  Bakke Brygg Belgisk Blonde 50 l   \n",
       "\n",
       "                                Style  StyleID  Size(L)     OG     FG   ABV  \\\n",
       "0                           Cream Ale       45    21.77  1.055  1.013  5.48   \n",
       "1  Holiday/Winter Special Spiced Beer       85    20.82  1.083  1.021  8.16   \n",
       "2                        American IPA        7    18.93  1.063  1.018  5.91   \n",
       "3                        American IPA        7    22.71  1.061  1.017  5.80   \n",
       "4                   Belgian Blond Ale       20    50.00  1.060  1.010  6.48   \n",
       "\n",
       "     IBU  Color  BoilSize  BoilTime  BoilGravity  Efficiency  MashThickness  \\\n",
       "0  17.65   4.83     28.39        75        1.038        70.0            NaN   \n",
       "1  60.65  15.64     24.61        60        1.070        70.0            NaN   \n",
       "2  59.25   8.98     22.71        60          NaN        70.0            NaN   \n",
       "3  54.48   8.50     26.50        60          NaN        70.0            NaN   \n",
       "4  17.84   4.57     60.00        90        1.050        72.0            NaN   \n",
       "\n",
       "         SugarScale BrewMethod  PitchRate  PrimaryTemp PrimingMethod  \\\n",
       "0  Specific Gravity  All Grain        NaN        17.78    corn sugar   \n",
       "1  Specific Gravity  All Grain        NaN          NaN           NaN   \n",
       "2  Specific Gravity    extract        NaN          NaN           NaN   \n",
       "3  Specific Gravity  All Grain        NaN          NaN           NaN   \n",
       "4  Specific Gravity  All Grain        NaN        19.00    Sukkerlake   \n",
       "\n",
       "    PrimingAmount   UserId  \n",
       "0          4.5 oz    116.0  \n",
       "1             NaN    955.0  \n",
       "2             NaN      NaN  \n",
       "3             NaN      NaN  \n",
       "4  6-7 g sukker/l  18325.0  "
      ]
     },
     "execution_count": 96,
     "metadata": {},
     "output_type": "execute_result"
    }
   ],
   "source": [
    "dados.head()"
   ]
  },
  {
   "cell_type": "code",
   "execution_count": 4,
   "metadata": {},
   "outputs": [
    {
     "data": {
      "text/plain": [
       "American IPA                         11940\n",
       "American Pale Ale                     7581\n",
       "Saison                                2617\n",
       "American Light Lager                  2277\n",
       "American Amber Ale                    2038\n",
       "Blonde Ale                            1753\n",
       "Imperial IPA                          1478\n",
       "American Stout                        1268\n",
       "Irish Red Ale                         1204\n",
       "American Brown Ale                    1152\n",
       "Witbier                               1072\n",
       "California Common Beer                1044\n",
       "Weissbier                              988\n",
       "Oatmeal Stout                          961\n",
       "Russian Imperial Stout                 929\n",
       "Weizen/Weissbier                       919\n",
       "Sweet Stout                            919\n",
       "Robust Porter                          897\n",
       "Kölsch                                 869\n",
       "Double IPA                             864\n",
       "Cream Ale                              830\n",
       "American Porter                        787\n",
       "English IPA                            784\n",
       "Imperial Stout                         675\n",
       "Extra Special/Strong Bitter (ESB)      659\n",
       "American Wheat Beer                    654\n",
       "Specialty IPA: Black IPA               638\n",
       "Belgian Pale Ale                       625\n",
       "American Wheat or Rye Beer             571\n",
       "Belgian Tripel                         563\n",
       "                                     ...  \n",
       "Czech Dark Lager                        35\n",
       "German Helles Exportbier                33\n",
       "Roggenbier                              32\n",
       "Czech Amber Lager                       32\n",
       "English Cider                           32\n",
       "Oud Bruin                               31\n",
       "Tropical Stout                          31\n",
       "Kentucky Common                         30\n",
       "Pre-Prohibition Lager                   30\n",
       "Scottish Light 60/-                     25\n",
       "Fruit Cider                             22\n",
       "Sahti                                   22\n",
       "Eisbock                                 21\n",
       "Alternative Sugar Beer                  21\n",
       "German Leichtbier                       20\n",
       "Kellerbier: Amber Kellerbier            18\n",
       "Open Category Mead                      17\n",
       "Kellerbier: Pale Kellerbier             17\n",
       "Cyser (Apple Melomel)                   17\n",
       "Piwo Grodziskie                         15\n",
       "Metheglin                               14\n",
       "Pre-Prohibition Porter                  12\n",
       "Specialty Wood-Aged Beer                11\n",
       "London Brown Ale                         8\n",
       "New England Cider                        7\n",
       "Apple Wine                               6\n",
       "Lichtenhainer                            6\n",
       "Pyment (Grape Melomel)                   5\n",
       "Traditional Perry                        2\n",
       "French Cider                             2\n",
       "Name: Style, Length: 175, dtype: int64"
      ]
     },
     "execution_count": 4,
     "metadata": {},
     "output_type": "execute_result"
    }
   ],
   "source": [
    "dados[\"Style\"].value_counts()"
   ]
  },
  {
   "cell_type": "code",
   "execution_count": 4,
   "metadata": {},
   "outputs": [
    {
     "name": "stdout",
     "output_type": "stream",
     "text": [
      "BeerID            0.000000\n",
      "Name              0.001354\n",
      "Style             0.806921\n",
      "StyleID           0.000000\n",
      "Size(L)           0.000000\n",
      "OG                0.000000\n",
      "FG                0.000000\n",
      "ABV               0.000000\n",
      "IBU               0.000000\n",
      "Color             0.000000\n",
      "BoilSize          0.000000\n",
      "BoilTime          0.000000\n",
      "BoilGravity       4.048144\n",
      "Efficiency        0.000000\n",
      "MashThickness    40.432705\n",
      "SugarScale        0.000000\n",
      "BrewMethod        0.000000\n",
      "PitchRate        53.143066\n",
      "PrimaryTemp      30.681957\n",
      "PrimingMethod    90.839550\n",
      "PrimingAmount    93.536508\n",
      "UserId           68.358132\n",
      "dtype: float64\n"
     ]
    }
   ],
   "source": [
    "faltantes = dados.isnull().sum()\n",
    "faltantes_percentual = (dados.isnull().sum() / len(dados['StyleID'])) * 100\n",
    "print(faltantes_percentual)"
   ]
  },
  {
   "cell_type": "code",
   "execution_count": 5,
   "metadata": {},
   "outputs": [
    {
     "data": {
      "text/plain": [
       "7      11940\n",
       "10      7581\n",
       "134     2617\n",
       "9       2277\n",
       "4       2038\n",
       "       ...  \n",
       "99         6\n",
       "16         6\n",
       "127        5\n",
       "164        2\n",
       "73         2\n",
       "Name: StyleID, Length: 176, dtype: int64"
      ]
     },
     "execution_count": 5,
     "metadata": {},
     "output_type": "execute_result"
    }
   ],
   "source": [
    "dados[\"StyleID\"].value_counts()"
   ]
  },
  {
   "cell_type": "code",
   "execution_count": 5,
   "metadata": {},
   "outputs": [
    {
     "data": {
      "text/plain": [
       "(35424, 22)"
      ]
     },
     "execution_count": 5,
     "metadata": {},
     "output_type": "execute_result"
    }
   ],
   "source": [
    "# carrega apenas registros em que o valor da coluna StyleID seja igual à 7\n",
    "# dados_1 = dados.loc[(dados['StyleID'] == 7)]\n",
    "# dados_1.shape\n",
    "# carrega apenas registros em que o valor da coluna StyleID seja igual aos IDs da lista\n",
    "dados = dados.loc[(dados['StyleID'].isin([7, 10, 134, 9, 4,30, 86, 12,92, 6, 175, 39]))]\n",
    "dados.shape"
   ]
  },
  {
   "cell_type": "code",
   "execution_count": 6,
   "metadata": {},
   "outputs": [],
   "source": [
    "# removendo colunas com mais de 50% de registros com valor nulo\n",
    "dados.drop('PrimingMethod', axis = 1, inplace = True)\n",
    "dados.drop('PrimingAmount', axis = 1, inplace = True)\n",
    "dados.drop('UserId', axis = 1, inplace = True)\n",
    "dados.drop('BeerID', axis = 1, inplace = True)\n",
    "dados.drop('Name', axis = 1, inplace = True)\n",
    "dados.drop('Style', axis = 1, inplace = True)"
   ]
  },
  {
   "cell_type": "code",
   "execution_count": 102,
   "metadata": {},
   "outputs": [
    {
     "data": {
      "text/html": [
       "<div>\n",
       "<style scoped>\n",
       "    .dataframe tbody tr th:only-of-type {\n",
       "        vertical-align: middle;\n",
       "    }\n",
       "\n",
       "    .dataframe tbody tr th {\n",
       "        vertical-align: top;\n",
       "    }\n",
       "\n",
       "    .dataframe thead th {\n",
       "        text-align: right;\n",
       "    }\n",
       "</style>\n",
       "<table border=\"1\" class=\"dataframe\">\n",
       "  <thead>\n",
       "    <tr style=\"text-align: right;\">\n",
       "      <th></th>\n",
       "      <th>StyleID</th>\n",
       "      <th>Size(L)</th>\n",
       "      <th>OG</th>\n",
       "      <th>FG</th>\n",
       "      <th>ABV</th>\n",
       "      <th>IBU</th>\n",
       "      <th>Color</th>\n",
       "      <th>BoilSize</th>\n",
       "      <th>BoilTime</th>\n",
       "      <th>BoilGravity</th>\n",
       "      <th>Efficiency</th>\n",
       "      <th>MashThickness</th>\n",
       "      <th>SugarScale</th>\n",
       "      <th>BrewMethod</th>\n",
       "      <th>PitchRate</th>\n",
       "      <th>PrimaryTemp</th>\n",
       "    </tr>\n",
       "  </thead>\n",
       "  <tbody>\n",
       "    <tr>\n",
       "      <td>2</td>\n",
       "      <td>7</td>\n",
       "      <td>18.93</td>\n",
       "      <td>1.063</td>\n",
       "      <td>1.018</td>\n",
       "      <td>5.91</td>\n",
       "      <td>59.25</td>\n",
       "      <td>8.98</td>\n",
       "      <td>22.71</td>\n",
       "      <td>60</td>\n",
       "      <td>NaN</td>\n",
       "      <td>70.0</td>\n",
       "      <td>NaN</td>\n",
       "      <td>Specific Gravity</td>\n",
       "      <td>extract</td>\n",
       "      <td>NaN</td>\n",
       "      <td>NaN</td>\n",
       "    </tr>\n",
       "    <tr>\n",
       "      <td>3</td>\n",
       "      <td>7</td>\n",
       "      <td>22.71</td>\n",
       "      <td>1.061</td>\n",
       "      <td>1.017</td>\n",
       "      <td>5.80</td>\n",
       "      <td>54.48</td>\n",
       "      <td>8.50</td>\n",
       "      <td>26.50</td>\n",
       "      <td>60</td>\n",
       "      <td>NaN</td>\n",
       "      <td>70.0</td>\n",
       "      <td>NaN</td>\n",
       "      <td>Specific Gravity</td>\n",
       "      <td>All Grain</td>\n",
       "      <td>NaN</td>\n",
       "      <td>NaN</td>\n",
       "    </tr>\n",
       "    <tr>\n",
       "      <td>5</td>\n",
       "      <td>10</td>\n",
       "      <td>24.61</td>\n",
       "      <td>1.055</td>\n",
       "      <td>1.013</td>\n",
       "      <td>5.58</td>\n",
       "      <td>40.12</td>\n",
       "      <td>8.00</td>\n",
       "      <td>29.34</td>\n",
       "      <td>70</td>\n",
       "      <td>1.047</td>\n",
       "      <td>79.0</td>\n",
       "      <td>NaN</td>\n",
       "      <td>Specific Gravity</td>\n",
       "      <td>All Grain</td>\n",
       "      <td>1.0</td>\n",
       "      <td>NaN</td>\n",
       "    </tr>\n",
       "    <tr>\n",
       "      <td>6</td>\n",
       "      <td>86</td>\n",
       "      <td>22.71</td>\n",
       "      <td>1.072</td>\n",
       "      <td>1.018</td>\n",
       "      <td>7.09</td>\n",
       "      <td>268.71</td>\n",
       "      <td>6.33</td>\n",
       "      <td>30.28</td>\n",
       "      <td>90</td>\n",
       "      <td>NaN</td>\n",
       "      <td>75.0</td>\n",
       "      <td>NaN</td>\n",
       "      <td>Specific Gravity</td>\n",
       "      <td>All Grain</td>\n",
       "      <td>NaN</td>\n",
       "      <td>NaN</td>\n",
       "    </tr>\n",
       "    <tr>\n",
       "      <td>9</td>\n",
       "      <td>86</td>\n",
       "      <td>20.82</td>\n",
       "      <td>1.080</td>\n",
       "      <td>1.017</td>\n",
       "      <td>8.22</td>\n",
       "      <td>93.02</td>\n",
       "      <td>8.29</td>\n",
       "      <td>28.39</td>\n",
       "      <td>60</td>\n",
       "      <td>1.058</td>\n",
       "      <td>70.0</td>\n",
       "      <td>NaN</td>\n",
       "      <td>Specific Gravity</td>\n",
       "      <td>All Grain</td>\n",
       "      <td>NaN</td>\n",
       "      <td>21.11</td>\n",
       "    </tr>\n",
       "  </tbody>\n",
       "</table>\n",
       "</div>"
      ],
      "text/plain": [
       "   StyleID  Size(L)     OG     FG   ABV     IBU  Color  BoilSize  BoilTime  \\\n",
       "2        7    18.93  1.063  1.018  5.91   59.25   8.98     22.71        60   \n",
       "3        7    22.71  1.061  1.017  5.80   54.48   8.50     26.50        60   \n",
       "5       10    24.61  1.055  1.013  5.58   40.12   8.00     29.34        70   \n",
       "6       86    22.71  1.072  1.018  7.09  268.71   6.33     30.28        90   \n",
       "9       86    20.82  1.080  1.017  8.22   93.02   8.29     28.39        60   \n",
       "\n",
       "   BoilGravity  Efficiency  MashThickness        SugarScale BrewMethod  \\\n",
       "2          NaN        70.0            NaN  Specific Gravity    extract   \n",
       "3          NaN        70.0            NaN  Specific Gravity  All Grain   \n",
       "5        1.047        79.0            NaN  Specific Gravity  All Grain   \n",
       "6          NaN        75.0            NaN  Specific Gravity  All Grain   \n",
       "9        1.058        70.0            NaN  Specific Gravity  All Grain   \n",
       "\n",
       "   PitchRate  PrimaryTemp  \n",
       "2        NaN          NaN  \n",
       "3        NaN          NaN  \n",
       "5        1.0          NaN  \n",
       "6        NaN          NaN  \n",
       "9        NaN        21.11  "
      ]
     },
     "execution_count": 102,
     "metadata": {},
     "output_type": "execute_result"
    }
   ],
   "source": [
    "dados.head()"
   ]
  },
  {
   "cell_type": "code",
   "execution_count": 110,
   "metadata": {},
   "outputs": [
    {
     "data": {
      "text/plain": [
       "StyleID            int64\n",
       "Size(L)          float64\n",
       "OG               float64\n",
       "FG               float64\n",
       "ABV              float64\n",
       "IBU              float64\n",
       "Color            float64\n",
       "BoilSize         float64\n",
       "BoilTime           int64\n",
       "BoilGravity      float64\n",
       "Efficiency       float64\n",
       "MashThickness    float64\n",
       "SugarScale         int64\n",
       "PitchRate        float64\n",
       "PrimaryTemp      float64\n",
       "All Grain          uint8\n",
       "BIAB               uint8\n",
       "Partial Mash       uint8\n",
       "extract            uint8\n",
       "dtype: object"
      ]
     },
     "execution_count": 110,
     "metadata": {},
     "output_type": "execute_result"
    }
   ],
   "source": [
    "dados.dtypes"
   ]
  },
  {
   "cell_type": "code",
   "execution_count": 8,
   "metadata": {},
   "outputs": [
    {
     "data": {
      "text/plain": [
       "Specific Gravity    34605\n",
       "Plato                 819\n",
       "Name: SugarScale, dtype: int64"
      ]
     },
     "execution_count": 8,
     "metadata": {},
     "output_type": "execute_result"
    }
   ],
   "source": [
    "# transformar campos texto em campos numéricos. \n",
    "# se a coluna possuir apenas dois valores distintos, transformar em 0 e 1\n",
    "# se houver mais do que dois valores, utilizar a técnica de encoding\n",
    "dados['SugarScale'].value_counts()\n",
    "#dados['BrewMethod'].value_counts()"
   ]
  },
  {
   "cell_type": "code",
   "execution_count": 7,
   "metadata": {},
   "outputs": [],
   "source": [
    "# Transformando os dados em 0 e 1\n",
    "#dados[\"SugarScale\"].replace(to_replace=dict('Specific Gravity'=1, Plato=0), inplace=True)\n",
    "dados[\"SugarScale\"].replace('Specific Gravity', 1, inplace=True)\n",
    "dados[\"SugarScale\"].replace('Plato', 0, inplace=True)"
   ]
  },
  {
   "cell_type": "code",
   "execution_count": 8,
   "metadata": {},
   "outputs": [
    {
     "data": {
      "text/plain": [
       "1    34605\n",
       "0      819\n",
       "Name: SugarScale, dtype: int64"
      ]
     },
     "execution_count": 8,
     "metadata": {},
     "output_type": "execute_result"
    }
   ],
   "source": [
    "dados['SugarScale'].value_counts()"
   ]
  },
  {
   "cell_type": "code",
   "execution_count": 9,
   "metadata": {},
   "outputs": [],
   "source": [
    "class_encode = pd.get_dummies(dados['BrewMethod'])  \n",
    "# concatena as novas colunas do método encoding com o dataset\n",
    "dados = pd.concat([dados, class_encode], axis=1)\n",
    "dados.drop('BrewMethod', axis = 1, inplace = True)"
   ]
  },
  {
   "cell_type": "code",
   "execution_count": 10,
   "metadata": {},
   "outputs": [
    {
     "data": {
      "text/plain": [
       "<Figure size 640x480 with 1 Axes>"
      ]
     },
     "metadata": {},
     "output_type": "display_data"
    }
   ],
   "source": [
    "# boxplot ajuda a enxergar a distribuição dos valores em relação à média.\n",
    "# forma visual para identificar se a variável possui outliers\n",
    "# se houver, necessário avaliar a necessidade de excluir os outliers \n",
    "import matplotlib.pyplot as plt\n",
    "dados.boxplot(column=['BoilGravity', 'MashThickness', 'PitchRate', 'PrimaryTemp']) # \n",
    "plt.show()"
   ]
  },
  {
   "cell_type": "code",
   "execution_count": 11,
   "metadata": {},
   "outputs": [
    {
     "data": {
      "image/png": "[encoded data removed]",
      "text/plain": [
       "<Figure size 432x288 with 4 Axes>"
      ]
     },
     "metadata": {},
     "output_type": "display_data"
    }
   ],
   "source": [
    "# histograma também mostra a distribuição dos valores.\n",
    "# se os valores estiverem concentrados com alguns outliers, é conveniente trabalhar com a mediana quando preciso.\n",
    "# se a distribuição foi maior, a média explica melhor a variável\n",
    "dados.hist(column=['BoilGravity', 'MashThickness', 'PitchRate' , 'PrimaryTemp'], bins=20)\n",
    "plt.show()"
   ]
  },
  {
   "cell_type": "code",
   "execution_count": 12,
   "metadata": {},
   "outputs": [],
   "source": [
    "dados['PitchRate'].fillna(dados['PitchRate'].mean(), inplace=True)\n",
    "dados.fillna(dados.median(), inplace=True)"
   ]
  },
  {
   "cell_type": "code",
   "execution_count": 13,
   "metadata": {},
   "outputs": [],
   "source": [
    "y = dados['StyleID']\n",
    "x = dados.drop('StyleID', axis = 1)    "
   ]
  },
  {
   "cell_type": "code",
   "execution_count": 16,
   "metadata": {},
   "outputs": [],
   "source": [
    "def modelosclassificacao(a, b):\n",
    "    from sklearn.linear_model import LogisticRegression\n",
    "    from sklearn.naive_bayes import GaussianNB\n",
    "    from sklearn.tree import DecisionTreeClassifier\n",
    "    from sklearn.neighbors import KNeighborsClassifier\n",
    "    from sklearn.preprocessing import MinMaxScaler\n",
    "    from sklearn.model_selection import StratifiedKFold\n",
    "    from sklearn.model_selection import cross_val_score\n",
    "    skfold = StratifiedKFold(n_splits=3) # Apenas 3 folds para ficar mais rápido - quanto mais divisõs, mais custoso é processamento\n",
    "    x = a\n",
    "    y = b\n",
    "    normalizador = MinMaxScaler(feature_range = (0 , 1))\n",
    "    x_norm = normalizador.fit_transform(x)\n",
    "    \n",
    "    logist = LogisticRegression()\n",
    "    naive = GaussianNB()\n",
    "    decision_tree = DecisionTreeClassifier()\n",
    "    knn = KNeighborsClassifier()\n",
    "    result_logist = cross_val_score(logist, x, y, cv = skfold)\n",
    "    result_naive = cross_val_score(naive, x, y, cv = skfold)\n",
    "    result_decision_tree = cross_val_score(decision_tree, x, y, cv = skfold)\n",
    "    result_knn = cross_val_score(knn, x_norm, y, cv = skfold)\n",
    "    \n",
    "    dic_classmodels = {'Logística':result_logist.mean(), 'Naive':result_naive.mean(),'Decision Tree ':result_decision_tree.mean(),'KNN ':result_knn.mean()}\n",
    "    melhor_modelo = max(dic_classmodels, key=dic_classmodels.get)\n",
    "    print('Regressão Logística:', result_logist.mean(), 'Naive Bayes:', result_naive.mean(), 'Decision Tree:', result_decision_tree.mean(), 'KNN: ',result_knn.mean())\n",
    "    print('O melhor modelo foi:', melhor_modelo, 'Com o valor:', dic_classmodels[melhor_modelo])"
   ]
  },
  {
   "cell_type": "code",
   "execution_count": 17,
   "metadata": {},
   "outputs": [
    {
     "name": "stderr",
     "output_type": "stream",
     "text": [
      "C:\\Users\\gustavo.presa\\AppData\\Local\\Continuum\\anaconda3\\lib\\site-packages\\sklearn\\linear_model\\logistic.py:432: FutureWarning: Default solver will be changed to 'lbfgs' in 0.22. Specify a solver to silence this warning.\n",
      "  FutureWarning)\n",
      "C:\\Users\\gustavo.presa\\AppData\\Local\\Continuum\\anaconda3\\lib\\site-packages\\sklearn\\linear_model\\logistic.py:469: FutureWarning: Default multi_class will be changed to 'auto' in 0.22. Specify the multi_class option to silence this warning.\n",
      "  \"this warning.\", FutureWarning)\n",
      "C:\\Users\\gustavo.presa\\AppData\\Local\\Continuum\\anaconda3\\lib\\site-packages\\sklearn\\linear_model\\logistic.py:432: FutureWarning: Default solver will be changed to 'lbfgs' in 0.22. Specify a solver to silence this warning.\n",
      "  FutureWarning)\n",
      "C:\\Users\\gustavo.presa\\AppData\\Local\\Continuum\\anaconda3\\lib\\site-packages\\sklearn\\linear_model\\logistic.py:469: FutureWarning: Default multi_class will be changed to 'auto' in 0.22. Specify the multi_class option to silence this warning.\n",
      "  \"this warning.\", FutureWarning)\n",
      "C:\\Users\\gustavo.presa\\AppData\\Local\\Continuum\\anaconda3\\lib\\site-packages\\sklearn\\svm\\base.py:929: ConvergenceWarning: Liblinear failed to converge, increase the number of iterations.\n",
      "  \"the number of iterations.\", ConvergenceWarning)\n",
      "C:\\Users\\gustavo.presa\\AppData\\Local\\Continuum\\anaconda3\\lib\\site-packages\\sklearn\\linear_model\\logistic.py:432: FutureWarning: Default solver will be changed to 'lbfgs' in 0.22. Specify a solver to silence this warning.\n",
      "  FutureWarning)\n",
      "C:\\Users\\gustavo.presa\\AppData\\Local\\Continuum\\anaconda3\\lib\\site-packages\\sklearn\\linear_model\\logistic.py:469: FutureWarning: Default multi_class will be changed to 'auto' in 0.22. Specify the multi_class option to silence this warning.\n",
      "  \"this warning.\", FutureWarning)\n",
      "C:\\Users\\gustavo.presa\\AppData\\Local\\Continuum\\anaconda3\\lib\\site-packages\\sklearn\\svm\\base.py:929: ConvergenceWarning: Liblinear failed to converge, increase the number of iterations.\n",
      "  \"the number of iterations.\", ConvergenceWarning)\n"
     ]
    },
    {
     "name": "stdout",
     "output_type": "stream",
     "text": [
      "Regressão Logística: 0.4461656966091503 Naive Bayes: 0.4169442945637556 Decision Tree: 0.47213848583393686 KNN:  0.4763161506503686\n",
      "O melhor modelo foi: KNN  Com o valor: 0.4763161506503686\n"
     ]
    }
   ],
   "source": [
    "modelosclassificacao(x, y)"
   ]
  },
  {
   "cell_type": "code",
   "execution_count": 18,
   "metadata": {},
   "outputs": [
    {
     "name": "stdout",
     "output_type": "stream",
     "text": [
      "Melhor acurácia: 0.5174740289069557\n",
      "Melhor K: 11\n",
      "Método distância: minkowski\n",
      "Melhor valor p: 1\n"
     ]
    }
   ],
   "source": [
    "import numpy as np\n",
    "from sklearn.neighbors import KNeighborsClassifier\n",
    "from sklearn.preprocessing import MinMaxScaler \n",
    "from sklearn.model_selection import GridSearchCV\n",
    "\n",
    "# importante normalizar as distâncias porque as variáveis podem estar com grandezas diferentes\n",
    "normalizador = MinMaxScaler(feature_range=(0,1))\n",
    "x_norm = normalizador.fit_transform(x)\n",
    "\n",
    "valores_K = np.array([3, 5, 7, 9, 11])\n",
    "#diferentes métodos para calcular distância. Padrão é o minkowski. Também tem EuclideanDistance (euclidean), ManhattanDistance (manhattan)  e outros\n",
    "calculo_distancia = ['minkowski','chebyshev']\n",
    "valores_p = np.array([1, 2, 3, 4])\n",
    "valores_grid = {'n_neighbors':valores_K, 'metric':calculo_distancia, 'p':valores_p}\n",
    "modelo = KNeighborsClassifier() \n",
    "\n",
    "gridKNN = GridSearchCV(estimator = modelo, param_grid = valores_grid, cv=5)\n",
    "gridKNN.fit(x_norm,y)\n",
    "\n",
    "print(\"Melhor acurácia:\", gridKNN.best_score_)\n",
    "print(\"Melhor K:\", gridKNN.best_estimator_.n_neighbors)\n",
    "print(\"Método distância:\", gridKNN.best_estimator_.metric)\n",
    "print(\"Melhor valor p:\", gridKNN.best_estimator_.p)"
   ]
  },
  {
   "cell_type": "code",
   "execution_count": 19,
   "metadata": {},
   "outputs": [
    {
     "name": "stdout",
     "output_type": "stream",
     "text": [
      "0.6106866269334966\n"
     ]
    }
   ],
   "source": [
    "from sklearn.ensemble import GradientBoostingClassifier\n",
    "from sklearn.model_selection import StratifiedKFold\n",
    "from sklearn.model_selection import cross_val_score\n",
    "modelo = GradientBoostingClassifier(n_estimators=300)\n",
    "skfold = StratifiedKFold(n_splits=3)\n",
    "resultado = cross_val_score(modelo,x,y,cv = skfold, n_jobs=-1)\n",
    "print(resultado.mean())"
   ]
  },
  {
   "cell_type": "code",
   "execution_count": null,
   "metadata": {},
   "outputs": [],
   "source": []
  }
 ],
 "metadata": {
  "kernelspec": {
   "display_name": "Python 3",
   "language": "python",
   "name": "python3"
  },
  "language_info": {
   "codemirror_mode": {
    "name": "ipython",
    "version": 3
   },
   "file_extension": ".py",
   "mimetype": "text/x-python",
   "name": "python",
   "nbconvert_exporter": "python",
   "pygments_lexer": "ipython3",
   "version": "3.6.5"
  }
 },
 "nbformat": 4,
 "nbformat_minor": 4
}
